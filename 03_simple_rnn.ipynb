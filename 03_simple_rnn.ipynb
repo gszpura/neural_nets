{
 "cells": [
  {
   "cell_type": "markdown",
   "metadata": {},
   "source": [
    "# Intro to RNNs\n",
    "This is loosely based on: https://blog.floydhub.com/a-beginners-guide-on-recurrent-neural-networks-with-pytorch/"
   ]
  },
  {
   "cell_type": "markdown",
   "metadata": {},
   "source": [
    "Imports:"
   ]
  },
  {
   "cell_type": "code",
   "execution_count": null,
   "metadata": {},
   "outputs": [],
   "source": [
    "import torch\n",
    "from torch import nn\n",
    "import numpy as np\n",
    "from timeit import default_timer as timer"
   ]
  },
  {
   "cell_type": "code",
   "execution_count": null,
   "metadata": {},
   "outputs": [],
   "source": [
    "with open('text', 'r') as fd:\n",
    "    full_text = fd.read().lower()\n",
    "full_text = full_text[0:16000]\n",
    "print(full_text)"
   ]
  },
  {
   "cell_type": "code",
   "execution_count": null,
   "metadata": {},
   "outputs": [],
   "source": [
    "vocab = set(full_text)\n",
    "int2char = dict(enumerate(vocab))\n",
    "char2int = {char: ind for ind, char in int2char.items()}\n",
    "print(char2int)"
   ]
  },
  {
   "cell_type": "markdown",
   "metadata": {},
   "source": [
    "Helper functions:"
   ]
  },
  {
   "cell_type": "code",
   "execution_count": 14,
   "metadata": {},
   "outputs": [],
   "source": [
    "def split_eq(text, no):\n",
    "    cnt = int(len(text) / no)\n",
    "    examples = [text[i:i+cnt] for i in range(0, len(text), cnt)]\n",
    "    if (no*cnt == len(text)):\n",
    "        return examples\n",
    "    else:\n",
    "        return examples[:-1]\n",
    "\n",
    "def produce_targets(examples):\n",
    "    targets = [ex[1:] for ex in examples]\n",
    "    inputs = [ex[:-1] for ex in examples]\n",
    "    return inputs, targets\n",
    "\n",
    "def translate_to_int(examples):\n",
    "    translated = [list(map(lambda ch: char2int[ch], ex)) for ex in examples]\n",
    "    return translated\n",
    "\n",
    "def translate_to_char(examples):\n",
    "    translated = [''.join(list(map(lambda i: int2char[i], ex))) for ex in examples]\n",
    "    return translated\n",
    "\n",
    "def one_hot_encode(examples):\n",
    "    features = np.zeros((len(examples), max(map(len, examples)), len(char2int)), dtype=np.float32)\n",
    "    \n",
    "    for i, example in enumerate(examples):\n",
    "        for pos in range(len(examples[i]) - 1):\n",
    "            features[i, pos, examples[i][pos]] = 1\n",
    "    return features\n",
    "\n",
    "def to_model_format(inputs):\n",
    "    if isinstance(inputs, str):\n",
    "        inputs = [inputs]\n",
    "    trans_inputs = translate_to_int(inputs)\n",
    "    encoded = one_hot_encode(trans_inputs)\n",
    "    encoded_tensor = torch.from_numpy(encoded)\n",
    "    return encoded_tensor\n",
    "\n",
    "def training_check(output):\n",
    "    # TODO: fix\n",
    "    print(\"#########\", len(output))\n",
    "    single_char = None\n",
    "    for char_no, out in enumerate(output):\n",
    "        mx = max(out)\n",
    "        for no, val in enumerate(out):\n",
    "            if val == mx and (not single_char or single_char == no):\n",
    "                print(val, no, int2char[no], int2char[trans_inputs[0][char_no]])"
   ]
  },
  {
   "cell_type": "markdown",
   "metadata": {},
   "source": [
    "Data configurations:"
   ]
  },
  {
   "cell_type": "code",
   "execution_count": null,
   "metadata": {},
   "outputs": [],
   "source": [
    "no_of_examples = 32\n",
    "examples = split_eq(full_text, no_of_examples)\n",
    "chars_per_example = len(examples[0])\n",
    "inputs, targets = produce_targets(examples)\n",
    "trans_inputs = translate_to_int(inputs)\n",
    "trans_targets = translate_to_int(targets)\n",
    "\n",
    "print(\"Chars per example:\", chars_per_example)"
   ]
  },
  {
   "cell_type": "code",
   "execution_count": null,
   "metadata": {},
   "outputs": [],
   "source": [
    "per_batch = 16\n",
    "no_of_batches = int(no_of_examples / per_batch)\n",
    "\n",
    "\n",
    "batches = []\n",
    "targets = []\n",
    "\n",
    "for i in range(no_of_batches):\n",
    "    input_seq = one_hot_encode(trans_inputs[i*per_batch:(i+1)*per_batch])\n",
    "    batches.append(torch.from_numpy(input_seq))\n",
    "    target_seq = torch.Tensor(trans_targets[i*per_batch:(i+1)*per_batch])\n",
    "    targets.append(target_seq)\n",
    "\n",
    "print(\"All targets:\", len(trans_targets), sum(map(len, targets)), len(targets[0]), len(targets))"
   ]
  },
  {
   "cell_type": "markdown",
   "metadata": {},
   "source": [
    "Model:"
   ]
  },
  {
   "cell_type": "code",
   "execution_count": null,
   "metadata": {},
   "outputs": [],
   "source": [
    "class Model(nn.Module):\n",
    "    def __init__(self, input_size, output_size, hidden_dim, n_layers):\n",
    "        super(Model, self).__init__()\n",
    "        self.hidden_dim = hidden_dim\n",
    "        self.n_layers = n_layers\n",
    "        self.rnn = nn.RNN(input_size, hidden_dim, n_layers, batch_first=True)   \n",
    "        self.fc = nn.Linear(hidden_dim, output_size)\n",
    "    \n",
    "    def forward(self, x):\n",
    "        batch_size = x.size(0)\n",
    "        hidden = self.init_hidden(batch_size)\n",
    "        out, hidden = self.rnn(x, hidden)\n",
    "        out = out.contiguous().view(-1, self.hidden_dim)\n",
    "        out = self.fc(out)\n",
    "        return out, hidden\n",
    "    \n",
    "    def init_hidden(self, batch_size):\n",
    "        hidden = torch.zeros(self.n_layers, batch_size, self.hidden_dim)\n",
    "        return hidden"
   ]
  },
  {
   "cell_type": "markdown",
   "metadata": {},
   "source": [
    "Training and model configuration:"
   ]
  },
  {
   "cell_type": "code",
   "execution_count": null,
   "metadata": {},
   "outputs": [],
   "source": [
    "dict_size = len(char2int)\n",
    "print(dict_size)\n",
    "model = Model(input_size=dict_size, output_size=dict_size, hidden_dim=12, n_layers=3)\n",
    "n_epochs = 2000\n",
    "lr=0.0048\n",
    "\n",
    "criterion = nn.CrossEntropyLoss()\n",
    "optimizer = torch.optim.Adam(model.parameters(), lr=lr)"
   ]
  },
  {
   "cell_type": "markdown",
   "metadata": {},
   "source": [
    "Training:"
   ]
  },
  {
   "cell_type": "code",
   "execution_count": null,
   "metadata": {},
   "outputs": [],
   "source": [
    "t1 = timer()\n",
    "for epoch in range(1, n_epochs):\n",
    "    for no, batch in enumerate(batches):\n",
    "        target_batch = targets[no]\n",
    "        optimizer.zero_grad()\n",
    "        output, hidden = model(batch)\n",
    "        # training_check(input_seq, output)\n",
    "        loss = criterion(output, target_batch.view(-1).long())\n",
    "        loss.backward()\n",
    "        optimizer.step()\n",
    "\n",
    "        if epoch%25 == 0:\n",
    "            print('Epoch: {}/{}......'.format(epoch, n_epochs), end=' ')\n",
    "            print(\"Loss: {:.4f}\".format(loss.item()))\n",
    "            t2 = timer()\n",
    "            print(\"Elapsed:\", t2 - t1)\n",
    "t3 = timer()\n",
    "print(\"Total secods elapsed:\", t3 - t1)"
   ]
  },
  {
   "cell_type": "markdown",
   "metadata": {},
   "source": [
    "Prediction helpers:"
   ]
  },
  {
   "cell_type": "code",
   "execution_count": null,
   "metadata": {},
   "outputs": [],
   "source": [
    "def predict_next(model, input_string):\n",
    "    encoded_input = to_model_format(input_string)\n",
    "    out, hidden = model(encoded_input)\n",
    "\n",
    "    # choosing one with highest probability\n",
    "    prob = nn.functional.softmax(out[-1], dim=0).data\n",
    "    char_ind = torch.max(prob, dim=0)[1].item()\n",
    "    return int2char[char_ind], hidden\n",
    "\n",
    "\n",
    "def run_model(model, starting_seq, size=50):\n",
    "    model.eval()\n",
    "    seq = starting_seq.lower()\n",
    "    for _ in range(size):\n",
    "        char, h = predict_next(model, seq)\n",
    "        seq += char\n",
    "    return ''.join(seq)"
   ]
  },
  {
   "cell_type": "markdown",
   "metadata": {},
   "source": [
    "Prediction:"
   ]
  },
  {
   "cell_type": "code",
   "execution_count": null,
   "metadata": {},
   "outputs": [],
   "source": [
    "res = run_model(model, 'character ')\n",
    "print(res)"
   ]
  },
  {
   "cell_type": "markdown",
   "metadata": {},
   "source": [
    "Some results:\n",
    "\n",
    "ep:1500 lr:0.004 1000chars: \"character auddoc aouis thrts cmgei eheo  bwiogib throliaeddo\"\n",
    "\n",
    "ep:1500 lr:0.004 2000chars: \"character serlpiip  oa doee  foerdtoitn aad ehd eou  eosu  o\" \n",
    "\n",
    "ep:1000 lr:0.0045 4000chars: \"character iat  iypheae  nimftercteitrtrotd ia .eta aat  aeto\"\n",
    "\n",
    "ep:1000 lr:0.0045 4000chars Inbatch:8 \"character aodlt voot  eo csrtoe .p tpucsl\\neopdsiuts tautor t\"\n",
    "\n",
    "ep:2400 lr:0.0045 4000chars Inbatch:8 \"character ootteos meatcias eopneansen rast aagteos road iet \"\n",
    "\n",
    "ep:1800 lr:0.0045 8000chars Inbatch:32 \"character lpian tpratttttttttttttttttttttttttttttttttttttttt\", Loss:1.8095\n",
    "\n",
    "ep:2800 lr:0.0047 8000chars Inbatch:32 \"character  au dhr eat  uumsr eottrreent  au dhr eat  uumsr e\" Loss:1.8013\n",
    "\n",
    "ep:2000 lr:0.0048 8000chars Inbatch:16 Batches:2 \"character  uhsist rrietsr yho nurtpr  rhaed  uhsist rrietsr \" Loss:1.8369"
   ]
  },
  {
   "cell_type": "code",
   "execution_count": null,
   "metadata": {},
   "outputs": [],
   "source": []
  }
 ],
 "metadata": {
  "kernelspec": {
   "display_name": "Python 3",
   "language": "python",
   "name": "python3"
  },
  "language_info": {
   "codemirror_mode": {
    "name": "ipython",
    "version": 3
   },
   "file_extension": ".py",
   "mimetype": "text/x-python",
   "name": "python",
   "nbconvert_exporter": "python",
   "pygments_lexer": "ipython3",
   "version": "3.7.7"
  }
 },
 "nbformat": 4,
 "nbformat_minor": 4
}
