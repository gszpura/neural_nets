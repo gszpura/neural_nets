{
 "cells": [
  {
   "cell_type": "markdown",
   "metadata": {},
   "source": [
    "# Intro to RNNs\n",
    "This is loosely based on: https://blog.floydhub.com/a-beginners-guide-on-recurrent-neural-networks-with-pytorch/"
   ]
  },
  {
   "cell_type": "markdown",
   "metadata": {},
   "source": [
    "Imports:"
   ]
  },
  {
   "cell_type": "code",
   "execution_count": 45,
   "metadata": {},
   "outputs": [],
   "source": [
    "import torch\n",
    "from torch import nn\n",
    "import numpy as np\n",
    "from timeit import default_timer as timer"
   ]
  },
  {
   "cell_type": "markdown",
   "metadata": {},
   "source": [
    "Helper functions:"
   ]
  },
  {
   "cell_type": "code",
   "execution_count": 46,
   "metadata": {},
   "outputs": [],
   "source": [
    "def split_eq(text, no):\n",
    "    cnt = int(len(text) / no)\n",
    "    examples = [text[i:i+cnt] for i in range(0, len(text), cnt)]\n",
    "    if (no*cnt == len(text)):\n",
    "        return examples\n",
    "    else:\n",
    "        return examples[:-1]\n",
    "\n",
    "def produce_targets(examples):\n",
    "    targets = [ex[1:] for ex in examples]\n",
    "    inputs = [ex[:-1] for ex in examples]\n",
    "    return inputs, targets\n",
    "\n",
    "def translate_to_int(examples):\n",
    "    translated = [list(map(lambda ch: char2int[ch], ex)) for ex in examples]\n",
    "    return translated\n",
    "\n",
    "def translate_to_char(examples):\n",
    "    translated = [''.join(list(map(lambda i: int2char[i], ex))) for ex in examples]\n",
    "    return translated\n",
    "\n",
    "def one_hot_encode(examples):\n",
    "    features = np.zeros((len(examples), len(examples[0]), len(char2int)), dtype=np.float32)\n",
    "    \n",
    "    for i, example in enumerate(examples):\n",
    "        for pos in range(len(examples[i]) - 1):\n",
    "            features[i, pos, examples[i][pos]] = 1\n",
    "    return features\n",
    "\n",
    "def to_model_format(inputs):\n",
    "    if isinstance(inputs, str):\n",
    "        inputs = [inputs]\n",
    "    trans_inputs = translate_to_int(inputs)\n",
    "    encoded = one_hot_encode(trans_inputs)\n",
    "    encoded_tensor = torch.from_numpy(encoded)\n",
    "    return encoded_tensor\n",
    "\n",
    "def training_check(output):\n",
    "    # TODO: fix\n",
    "    print(\"#########\", len(output))\n",
    "    single_char = None\n",
    "    for char_no, out in enumerate(output):\n",
    "        mx = max(out)\n",
    "        for no, val in enumerate(out):\n",
    "            if val == mx and (not single_char or single_char == no):\n",
    "                print(val, no, int2char[no], int2char[trans_inputs[0][char_no]])"
   ]
  },
  {
   "cell_type": "markdown",
   "metadata": {},
   "source": [
    "Configurations:"
   ]
  },
  {
   "cell_type": "code",
   "execution_count": 62,
   "metadata": {},
   "outputs": [],
   "source": [
    "# configuration\n",
    "no_of_examples = 32\n",
    "examples_per_batch = 16\n",
    "n_epochs = 300\n",
    "lr = 0.0048\n",
    "no_of_chars = 16000"
   ]
  },
  {
   "cell_type": "markdown",
   "metadata": {},
   "source": [
    "Loading training data:"
   ]
  },
  {
   "cell_type": "code",
   "execution_count": 67,
   "metadata": {},
   "outputs": [
    {
     "name": "stdout",
     "output_type": "stream",
     "text": [
      "Dictionary size: 44\n"
     ]
    }
   ],
   "source": [
    "\n",
    "with open('text', 'r') as fd:\n",
    "    full_text = fd.read().lower()\n",
    "full_text = full_text[0:no_of_chars]\n",
    "\n",
    "vocab = set(full_text)\n",
    "int2char = dict(enumerate(vocab))\n",
    "char2int = {char: ind for ind, char in int2char.items()}\n",
    "print(\"Dictionary size:\", len(char2int))"
   ]
  },
  {
   "cell_type": "code",
   "execution_count": 68,
   "metadata": {},
   "outputs": [
    {
     "name": "stdout",
     "output_type": "stream",
     "text": [
      "No of examples/No of data parts: 32\n",
      "No of batches: 2\n",
      "Examples per batch: 16\n",
      "Chars per example: 500\n"
     ]
    }
   ],
   "source": [
    "no_of_batches = int(no_of_examples / examples_per_batch)\n",
    "\n",
    "examples = split_eq(full_text, no_of_examples)\n",
    "chars_per_example = len(examples[0])\n",
    "inputs, targets = produce_targets(examples)\n",
    "trans_inputs = translate_to_int(inputs)\n",
    "trans_targets = translate_to_int(targets)\n",
    "\n",
    "batches = []\n",
    "\n",
    "for i in range(no_of_batches):\n",
    "    input_seq = one_hot_encode(trans_inputs[i*examples_per_batch:(i+1)*examples_per_batch])\n",
    "    target_seq = torch.Tensor(trans_targets[i*examples_per_batch:(i+1)*examples_per_batch])\n",
    "    batches.append((torch.from_numpy(input_seq), target_seq))\n",
    "\n",
    "print(\"No of examples/No of data parts:\", no_of_examples)\n",
    "print(\"No of batches:\", no_of_batches)\n",
    "print(\"Examples per batch:\", examples_per_batch)\n",
    "print(\"Chars per example:\", chars_per_example)"
   ]
  },
  {
   "cell_type": "markdown",
   "metadata": {},
   "source": [
    "The Model.\n",
    "\n",
    "It's RNN which uses hidden state and input.\n",
    "\n",
    "A word on sizes: https://pytorch.org/docs/stable/nn.html#rnn\n",
    "\n",
    "Hidden state input: (n_layers, batch_size, hidden_size)\n",
    "These are arbitrarily chosen by us before training.\n",
    "\n",
    "Data input: (seq_len, batch, input_size) if batch_first=True in RNN init, data input becomes: (batch, seq_len,  input_size)\n",
    "which I think is more natural.\n",
    "\n",
    "We have first mini-batches, then examples (a whole sentence in this case: \"something something...\"), than single one-hot encoded char. We use mini-batches and 'examples_per_batch' defined above is the number of examples in single mini-batch.\n",
    "\n",
    "Notice also \"init_hidden\" function. Hidden state is zeroed before every mini-batch i.e. during every forward pass.\n",
    "This can be done differently. If we have same size of batches we can pass hidden state from previous runs. A pattern here is to init once per epoch."
   ]
  },
  {
   "cell_type": "code",
   "execution_count": 76,
   "metadata": {},
   "outputs": [],
   "source": [
    "class ModelRNN(nn.Module):\n",
    "    def __init__(self, input_size, hidden_size, n_layers):\n",
    "        super(ModelRNN, self).__init__()\n",
    "        output_size = input_size\n",
    "        self.hidden_size = hidden_size\n",
    "        self.n_layers = n_layers\n",
    "        self.rnn = nn.RNN(input_size, hidden_size, n_layers, batch_first=True)   \n",
    "        self.fc = nn.Linear(hidden_size, output_size)\n",
    "    \n",
    "    def forward(self, x):\n",
    "        batch_size = x.size(0)\n",
    "        hidden = self.init_hidden(batch_size)\n",
    "        out, hidden = self.rnn(x, hidden)\n",
    "        out = out.contiguous().view(-1, self.hidden_size)\n",
    "        out = self.fc(out)\n",
    "        return out, hidden\n",
    "    \n",
    "    def init_hidden(self, batch_size):\n",
    "        hidden = torch.zeros(self.n_layers, batch_size, self.hidden_size)\n",
    "        return hidden"
   ]
  },
  {
   "cell_type": "markdown",
   "metadata": {},
   "source": [
    "Init model:"
   ]
  },
  {
   "cell_type": "code",
   "execution_count": 77,
   "metadata": {},
   "outputs": [],
   "source": [
    "dict_size = len(char2int)\n",
    "model = ModelRNN(input_size=dict_size, hidden_size=12, n_layers=3)\n",
    "\n",
    "criterion = nn.CrossEntropyLoss()\n",
    "optimizer = torch.optim.Adam(model.parameters(), lr=lr)"
   ]
  },
  {
   "cell_type": "markdown",
   "metadata": {},
   "source": [
    "Training:"
   ]
  },
  {
   "cell_type": "code",
   "execution_count": 78,
   "metadata": {},
   "outputs": [
    {
     "name": "stdout",
     "output_type": "stream",
     "text": [
      ".\n",
      ".\n",
      ".\n",
      ".\n",
      "Epoch: 100/300...... Loss: 2.3464\n",
      "Elapsed: 29.864484400000947\n",
      ".\n",
      ".\n",
      ".\n",
      ".\n",
      "Epoch: 200/300...... Loss: 2.0640\n",
      "Elapsed: 59.872537100000045\n",
      ".\n",
      ".\n",
      ".\n",
      "Total secods elapsed: 89.47705769999993\n"
     ]
    }
   ],
   "source": [
    "t1 = timer()\n",
    "for epoch in range(1, n_epochs):\n",
    "    for no, batch in enumerate(batches):\n",
    "        inp, target = batch\n",
    "        optimizer.zero_grad()\n",
    "        output, hidden = model(inp)\n",
    "        # training_check(input_seq, output)\n",
    "        loss = criterion(output, target.view(-1).long())\n",
    "        loss.backward()\n",
    "        optimizer.step()\n",
    "\n",
    "    if epoch%25 == 0:\n",
    "        print('.',)\n",
    "    if epoch%100 == 0:\n",
    "        print('Epoch: {}/{}......'.format(epoch, n_epochs), end=' ')\n",
    "        print(\"Loss: {:.4f}\".format(loss.item()))\n",
    "        t2 = timer()\n",
    "        print(\"Elapsed:\", t2 - t1)\n",
    "t3 = timer()\n",
    "print(\"Total secods elapsed:\", t3 - t1)"
   ]
  },
  {
   "cell_type": "markdown",
   "metadata": {},
   "source": [
    "Prediction helpers:"
   ]
  },
  {
   "cell_type": "code",
   "execution_count": 80,
   "metadata": {},
   "outputs": [],
   "source": [
    "def predict_next(model, input_string):\n",
    "    encoded_input = to_model_format(input_string)\n",
    "    out, hidden = model(encoded_input)\n",
    "\n",
    "    # choosing one with highest probability\n",
    "    prob = nn.functional.softmax(out[-1], dim=0).data\n",
    "    char_ind = torch.max(prob, dim=0)[1].item()\n",
    "    return int2char[char_ind]\n",
    "\n",
    "\n",
    "def run_model(model, starting_seq, size=50):\n",
    "    model.eval()\n",
    "    seq = starting_seq.lower()\n",
    "    for _ in range(size):\n",
    "        char = predict_next(model, seq)\n",
    "        seq += char\n",
    "    return ''.join(seq)"
   ]
  },
  {
   "cell_type": "markdown",
   "metadata": {},
   "source": [
    "Prediction:"
   ]
  },
  {
   "cell_type": "code",
   "execution_count": 81,
   "metadata": {},
   "outputs": [
    {
     "name": "stdout",
     "output_type": "stream",
     "text": [
      "character euat  rreat  freas  freas  freas  freas  freas  fr\n"
     ]
    }
   ],
   "source": [
    "res = run_model(model, 'character ')\n",
    "print(res)"
   ]
  },
  {
   "cell_type": "markdown",
   "metadata": {},
   "source": [
    "Some results:\n",
    "\n",
    "ep:1500 lr:0.004 1000chars: \"character auddoc aouis thrts cmgei eheo  bwiogib throliaeddo\"\n",
    "\n",
    "ep:1500 lr:0.004 2000chars: \"character serlpiip  oa doee  foerdtoitn aad ehd eou  eosu  o\" \n",
    "\n",
    "ep:1000 lr:0.0045 4000chars: \"character iat  iypheae  nimftercteitrtrotd ia .eta aat  aeto\"\n",
    "\n",
    "ep:1000 lr:0.0045 4000chars Inbatch:8 \"character aodlt voot  eo csrtoe .p tpucsl\\neopdsiuts tautor t\"\n",
    "\n",
    "ep:2400 lr:0.0045 4000chars Inbatch:8 \"character ootteos meatcias eopneansen rast aagteos road iet \"\n",
    "\n",
    "ep:1800 lr:0.0045 8000chars Inbatch:32 \"character lpian tpratttttttttttttttttttttttttttttttttttttttt\", Loss:1.8095\n",
    "\n",
    "ep:2800 lr:0.0047 8000chars Inbatch:32 \"character  au dhr eat  uumsr eottrreent  au dhr eat  uumsr e\" Loss:1.8013\n",
    "\n",
    "ep:2000 lr:0.0048 16000chars Inbatch:16 Batches:2 \"character  uhsist rrietsr yho nurtpr  rhaed  uhsist rrietsr \" Loss:1.8369"
   ]
  },
  {
   "cell_type": "code",
   "execution_count": null,
   "metadata": {},
   "outputs": [],
   "source": []
  }
 ],
 "metadata": {
  "kernelspec": {
   "display_name": "Python 3",
   "language": "python",
   "name": "python3"
  },
  "language_info": {
   "codemirror_mode": {
    "name": "ipython",
    "version": 3
   },
   "file_extension": ".py",
   "mimetype": "text/x-python",
   "name": "python",
   "nbconvert_exporter": "python",
   "pygments_lexer": "ipython3",
   "version": "3.7.7"
  }
 },
 "nbformat": 4,
 "nbformat_minor": 4
}
