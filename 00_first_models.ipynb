{
 "cells": [
  {
   "cell_type": "markdown",
   "metadata": {},
   "source": [
    "# First Neural Net with pytorch"
   ]
  },
  {
   "cell_type": "markdown",
   "metadata": {},
   "source": [
    "## Prereq\n",
    "You need to create a virtualenv and install numpy and pytorch."
   ]
  },
  {
   "cell_type": "markdown",
   "metadata": {},
   "source": [
    "First make some imports:"
   ]
  },
  {
   "cell_type": "code",
   "execution_count": null,
   "metadata": {},
   "outputs": [],
   "source": [
    "import numpy as np\n",
    "from torch import nn, tensor, optim\n",
    "from torch.utils.data import TensorDataset, DataLoader\n",
    "from torch.nn.functional import normalize\n",
    "from time import perf_counter"
   ]
  },
  {
   "cell_type": "markdown",
   "metadata": {},
   "source": [
    "Let's work with simple numpy arrays as a first example. Let label 1 be assigned to vectors that hold correct arithmetic progression sequence and 0 otherwise."
   ]
  },
  {
   "cell_type": "code",
   "execution_count": null,
   "metadata": {},
   "outputs": [],
   "source": [
    "train_x = np.array(\n",
    "    [[1, 2, 3, 4, 5, 6],\n",
    "     [2, 4, 6, 8, 10, 12],\n",
    "     [1, 5, 9, 13, 17, 21],\n",
    "     [7, 17, 27, 37, 47, 57],\n",
    "     [10, 15, 20, 25, 30, 35],\n",
    "     [5, 6, 7, 8, 9, 10],\n",
    "     [8, 10, 12, 14, 16, 18],\n",
    "     [102, 104, 106, 108, 110, 112],\n",
    "\n",
    "     [2, 10, 18, 26, 34, 42],\n",
    "     [17, 18, 19, 20, 21, 22],\n",
    "     [7, 9, 11, 13, 15, 17],\n",
    "     [33, 36, 39, 42, 45, 48],\n",
    "     [100, 200, 300, 400, 500, 600],\n",
    "     [3, 33, 63, 93, 123, 153],\n",
    "     [30, 32, 34, 36, 38, 40],\n",
    "     [2, 5, 8, 11, 14, 17],\n",
    "\n",
    "     [3, 10, 3, 4, 2, 8],\n",
    "     [1, 101, 8, 8, 8, 7],\n",
    "     [1, 2, 3, 4, 5, 1],\n",
    "     [7, 8, 9, 8, 7, 4],\n",
    "     [4, 5, 3, 10, 12, 13],\n",
    "     [5, 5, 6, 6, 8, 9],\n",
    "     [9, 10, 10, 8, 7, 10],\n",
    "     [3, 4, 11, 11, 10, 10],\n",
    "\n",
    "     [1, 1, 2, 2, 3, 3],\n",
    "     [9, 9, 8, 8, 7, 6],\n",
    "     [200, 170, 150, 140, 135, 132],\n",
    "     [5, 5, 5, 5, 5, 5],\n",
    "     [32, 32, 33, 33, 117, 118],\n",
    "     [29, 26, 28, 29, 30, 32],\n",
    "     [22, 12, 23, 9, 10, 14],\n",
    "     [20, 20, 15, 10, 25, 30]], dtype=np.float32)\n",
    "\n",
    "train_y = np.array([\n",
    "    1, 1, 1, 1, 1, 1, 1, 1,\n",
    "    1, 1, 1, 1, 1, 1, 1, 1,\n",
    "    0, 0, 0, 0, 0, 0, 0, 0,\n",
    "    0, 0, 0, 0, 0, 0, 0, 0])"
   ]
  },
  {
   "cell_type": "markdown",
   "metadata": {},
   "source": [
    "Also some testing data:"
   ]
  },
  {
   "cell_type": "code",
   "execution_count": null,
   "metadata": {},
   "outputs": [],
   "source": [
    "test_x = np.array([[6, 9, 12, 15, 18, 21],\n",
    "                  [11, 12, 13, 14, 15, 16],\n",
    "                  [24, 25, 26, 27, 28, 29],\n",
    "                  [9, 9, 9, 10, 10, 10],\n",
    "                  [9, 8, 7, 6, 5, 4],\n",
    "                  [3, 10, 3, 4, 8, 2],\n",
    "                  [12, 22, 32, 42, 52, 62],\n",
    "                  [8, 7, 8, 7, 8, 7],\n",
    "                  [1, 3, 5, 7, 9, 11]], dtype=np.float32)\n",
    "test_y = [1, 1, 1, 0, 0, 0, 1, 0, 1]"
   ]
  },
  {
   "cell_type": "markdown",
   "metadata": {},
   "source": [
    "Before we do anything else let's normalize the data and pack it into DataLoader which can be used with torch Neural Net:"
   ]
  },
  {
   "cell_type": "code",
   "execution_count": null,
   "metadata": {},
   "outputs": [],
   "source": [
    "datapoints = normalize(tensor(train_x))\n",
    "labels = tensor(train_y)\n",
    "\n",
    "train_data = TensorDataset(datapoints, labels)\n",
    "train_loader = DataLoader(train_data, batch_size=16, shuffle=True)"
   ]
  },
  {
   "cell_type": "markdown",
   "metadata": {},
   "source": [
    "Let's define our network. It will have one input layer, one hidden layer and one output. As a non-linearity we use Sigmoid and Softmax."
   ]
  },
  {
   "cell_type": "code",
   "execution_count": null,
   "metadata": {},
   "outputs": [],
   "source": [
    "class Network(nn.Module):\n",
    "\n",
    "    def __init__(self):\n",
    "        super().__init__()\n",
    "        self.hidden = nn.Linear(6, 256)\n",
    "        self.output = nn.Linear(256, 2)\n",
    "        self.sigmoid = nn.Sigmoid()\n",
    "        self.softmax = nn.Softmax(dim=1)\n",
    "\n",
    "    def forward(self, x):\n",
    "        x = self.hidden(x)\n",
    "        x = self.sigmoid(x)\n",
    "        x = self.output(x)\n",
    "        x = self.softmax(x)\n",
    "        return x\n"
   ]
  },
  {
   "cell_type": "markdown",
   "metadata": {},
   "source": [
    "Let's define some hyperparams:"
   ]
  },
  {
   "cell_type": "code",
   "execution_count": null,
   "metadata": {},
   "outputs": [],
   "source": [
    "lr = 0.003\n",
    "epochs = 30000"
   ]
  },
  {
   "cell_type": "markdown",
   "metadata": {},
   "source": [
    "We need also need to define loss function which tells the model how far it is from the truth and optimizer which is a learning algorithm."
   ]
  },
  {
   "cell_type": "code",
   "execution_count": null,
   "metadata": {},
   "outputs": [],
   "source": [
    "model = Network()\n",
    "criterion = nn.NLLLoss()\n",
    "optimizer = optim.SGD(model.parameters(), lr=lr)"
   ]
  },
  {
   "cell_type": "markdown",
   "metadata": {},
   "source": [
    "We can train our network with this code:"
   ]
  },
  {
   "cell_type": "code",
   "execution_count": null,
   "metadata": {},
   "outputs": [],
   "source": [
    "def train(model, criterion, optimizer, epochs=1000):\n",
    "    t1 = perf_counter()\n",
    "    for e in range(epochs):\n",
    "        running_loss = 0\n",
    "        for points, labels in train_loader:\n",
    "            optimizer.zero_grad()\n",
    "            output = model(points)\n",
    "            loss = criterion(output, labels)\n",
    "            loss.backward()\n",
    "            optimizer.step()\n",
    "            running_loss += loss.item()\n",
    "        else:\n",
    "            if e % 100 == 0:\n",
    "                print(f\"Training loss: {running_loss / len(train_loader)}\")\n",
    "    t2 = perf_counter()\n",
    "    print(\"Took:\", t2 - t1)"
   ]
  },
  {
   "cell_type": "markdown",
   "metadata": {},
   "source": [
    "Let's train:"
   ]
  },
  {
   "cell_type": "code",
   "execution_count": null,
   "metadata": {},
   "outputs": [],
   "source": [
    "train(model, criterion, optimizer, epochs)"
   ]
  },
  {
   "cell_type": "markdown",
   "metadata": {},
   "source": [
    "We can now use the model to predict new stuff"
   ]
  },
  {
   "cell_type": "code",
   "execution_count": null,
   "metadata": {},
   "outputs": [],
   "source": [
    "def evaluate_model(test_x, test_y):\n",
    "    print(\"Evaluating...\")\n",
    "    test_normalized = normalize(tensor(test_x))\n",
    "    correct = 0\n",
    "    for no, item in enumerate(test_normalized):\n",
    "        prob_prediction = model(item.unsqueeze(0))\n",
    "        predicted_label = np.argmax(prob_prediction.detach().numpy())\n",
    "        print(predicted_label, prob_prediction, test_y[no], test_x[no])\n",
    "        if (predicted_label == test_y[no]):\n",
    "            correct += 1\n",
    "    print(\"Result...\")\n",
    "    print(correct / float(len(test_y)))\n",
    "\n",
    "evaluate_model(test_x, test_y)"
   ]
  },
  {
   "cell_type": "markdown",
   "metadata": {},
   "source": [
    "Not the best, but it's something for a start."
   ]
  },
  {
   "cell_type": "markdown",
   "metadata": {},
   "source": [
    "## Same data different model"
   ]
  },
  {
   "cell_type": "markdown",
   "metadata": {},
   "source": [
    "Let's make a different model. We can also define model as follows:"
   ]
  },
  {
   "cell_type": "code",
   "execution_count": null,
   "metadata": {},
   "outputs": [],
   "source": [
    "# Build a feed-forward network\n",
    "model2 = nn.Sequential(nn.Linear(6, 256),\n",
    "                       nn.ReLU(),\n",
    "                       nn.Linear(256, 64),\n",
    "                       nn.ReLU(),\n",
    "                       nn.Linear(64, 2),\n",
    "                       nn.Softmax(dim=1))\n"
   ]
  },
  {
   "cell_type": "code",
   "execution_count": null,
   "metadata": {},
   "outputs": [],
   "source": [
    "lr = 0.003\n",
    "epochs = 10000\n",
    "criterion = nn.NLLLoss()\n",
    "optimizer = optim.SGD(model2.parameters(), lr=lr)"
   ]
  },
  {
   "cell_type": "markdown",
   "metadata": {},
   "source": [
    "Train again:"
   ]
  },
  {
   "cell_type": "code",
   "execution_count": null,
   "metadata": {},
   "outputs": [],
   "source": [
    "train(model2, criterion, optimizer, epochs)"
   ]
  },
  {
   "cell_type": "code",
   "execution_count": null,
   "metadata": {},
   "outputs": [],
   "source": [
    "evaluate_model(test_x, test_y)"
   ]
  },
  {
   "cell_type": "markdown",
   "metadata": {},
   "source": [
    "A bigger network gives the same results."
   ]
  },
  {
   "cell_type": "markdown",
   "metadata": {},
   "source": [
    "Let's observe if additional examples will help to train network better."
   ]
  },
  {
   "cell_type": "code",
   "execution_count": null,
   "metadata": {},
   "outputs": [],
   "source": [
    "train_x = np.array(\n",
    "    [[1, 2, 3, 4, 5, 6],\n",
    "     [2, 4, 6, 8, 10, 12],\n",
    "     [1, 5, 9, 13, 17, 21],\n",
    "     [7, 17, 27, 37, 47, 57],\n",
    "     [10, 15, 20, 25, 30, 35],\n",
    "     [5, 6, 7, 8, 9, 10],\n",
    "     [8, 10, 12, 14, 16, 18],\n",
    "     [102, 104, 106, 108, 110, 112],\n",
    "\n",
    "     [2, 10, 18, 26, 34, 42],\n",
    "     [17, 18, 19, 20, 21, 22],\n",
    "     [7, 9, 11, 13, 15, 17],\n",
    "     [33, 36, 39, 42, 45, 48],\n",
    "     [100, 200, 300, 400, 500, 600],\n",
    "     [3, 33, 63, 93, 123, 153],\n",
    "     [30, 32, 34, 36, 38, 40],\n",
    "     [2, 5, 8, 11, 14, 17],\n",
    "     \n",
    "     [2, 3, 4, 5, 6, 7],\n",
    "     [1, 7, 13, 19, 25, 31],\n",
    "     [20, 21, 22, 23, 24, 25],\n",
    "     [30, 33, 36, 39, 42, 45],\n",
    "     [10, 20, 30, 40, 50, 60],\n",
    "     [77, 78, 79, 80, 81, 82],\n",
    "     [0, 1, 2, 3, 4, 5],\n",
    "     [8, 12, 16, 20, 24, 28],\n",
    "\n",
    "     [3, 10, 3, 4, 2, 8],\n",
    "     [1, 101, 8, 8, 8, 7],\n",
    "     [1, 2, 3, 4, 5, 1],\n",
    "     [7, 8, 9, 8, 7, 4],\n",
    "     [4, 5, 3, 10, 12, 13],\n",
    "     [5, 5, 6, 6, 8, 9],\n",
    "     [9, 10, 10, 8, 7, 10],\n",
    "     [3, 4, 11, 11, 10, 10],\n",
    "     \n",
    "     [3, 4, 5, 5, 6, 7],\n",
    "     [1, 2, 2, 2, 2, 3],\n",
    "     [1, 2, 3, 3, 3, 3],\n",
    "     [10, 10, 11, 12, 13, 13],\n",
    "     [11, 12, 13, 14, 13, 12],\n",
    "     [5, 6, 7, 200, 8, 9],\n",
    "     [9, 9, 10, 11, 12, 13],\n",
    "     [3, 100, 2, 3, 4, 5],\n",
    "\n",
    "     [1, 1, 2, 2, 3, 3],\n",
    "     [9, 9, 8, 8, 7, 6],\n",
    "     [200, 170, 150, 140, 135, 132],\n",
    "     [5, 5, 5, 5, 5, 5],\n",
    "     [32, 32, 33, 33, 117, 118],\n",
    "     [29, 26, 28, 29, 30, 32],\n",
    "     [22, 12, 23, 9, 10, 14],\n",
    "     [20, 20, 15, 10, 25, 30]], dtype=np.float32)\n",
    "\n",
    "train_y = np.array([\n",
    "    1, 1, 1, 1, 1, 1, 1, 1,\n",
    "    1, 1, 1, 1, 1, 1, 1, 1,\n",
    "    1, 1, 1, 1, 1, 1, 1, 1,\n",
    "    0, 0, 0, 0, 0, 0, 0, 0,\n",
    "    0, 0, 0, 0, 0, 0, 0, 0,\n",
    "    0, 0, 0, 0, 0, 0, 0, 0])\n",
    "\n",
    "train_data = TensorDataset(normalize(tensor(train_x)), tensor(train_y))\n",
    "train_loader = DataLoader(train_data, batch_size=16, shuffle=True)"
   ]
  },
  {
   "cell_type": "code",
   "execution_count": null,
   "metadata": {},
   "outputs": [],
   "source": [
    "model3 = nn.Sequential(nn.Linear(6, 128),\n",
    "                       nn.ReLU(),\n",
    "                       nn.Linear(128, 64),\n",
    "                       nn.ReLU(),\n",
    "                       nn.Linear(64, 2),\n",
    "                       nn.Softmax(dim=1))\n",
    "lr = 0.003\n",
    "epochs = 20000\n",
    "criterion = nn.NLLLoss()\n",
    "optimizer = optim.SGD(model3.parameters(), lr=lr)\n",
    "train(model3, criterion, optimizer, epochs)\n",
    "evaluate_model(test_x, test_y)"
   ]
  },
  {
   "cell_type": "code",
   "execution_count": null,
   "metadata": {},
   "outputs": [],
   "source": []
  }
 ],
 "metadata": {
  "kernelspec": {
   "display_name": "Python 3",
   "language": "python",
   "name": "python3"
  },
  "language_info": {
   "codemirror_mode": {
    "name": "ipython",
    "version": 3
   },
   "file_extension": ".py",
   "mimetype": "text/x-python",
   "name": "python",
   "nbconvert_exporter": "python",
   "pygments_lexer": "ipython3",
   "version": "3.7.7"
  }
 },
 "nbformat": 4,
 "nbformat_minor": 4
}
