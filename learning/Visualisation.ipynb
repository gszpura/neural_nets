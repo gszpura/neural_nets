{
 "cells": [
  {
   "cell_type": "code",
   "execution_count": null,
   "metadata": {},
   "outputs": [],
   "source": [
    "import numpy as np\n",
    "from sklearn.datasets import make_blobs\n",
    "import matplotlib.pyplot as plt\n",
    "import tensorflow as tf\n",
    "from tensorflow.keras.layers import Dense\n",
    "from tensorflow.keras.models import Sequential\n",
    "\n",
    "import tensorflow_datasets as tfds\n",
    "\n",
    "import warnings\n",
    "warnings.simplefilter(\"ignore\")"
   ]
  },
  {
   "cell_type": "code",
   "execution_count": null,
   "metadata": {},
   "outputs": [],
   "source": [
    "# print(\"Num GPUs Available: \", len(tf.config.list_physical_devices('GPU')))"
   ]
  },
  {
   "cell_type": "code",
   "execution_count": null,
   "metadata": {},
   "outputs": [],
   "source": [
    "(ds_train, ds_test), ds_info = tfds.load(\n",
    "    'cifar10',\n",
    "    split=['train', 'test'],\n",
    "    shuffle_files=True,\n",
    "    as_supervised=True,\n",
    "    with_info=True,\n",
    ")\n"
   ]
  },
  {
   "cell_type": "code",
   "execution_count": null,
   "metadata": {},
   "outputs": [],
   "source": [
    "print(ds_info)"
   ]
  },
  {
   "cell_type": "code",
   "execution_count": null,
   "metadata": {},
   "outputs": [],
   "source": [
    "assert isinstance(ds_train, tf.data.Dataset)\n",
    "\n",
    "one = ds_train.take(1) # one example is `{'image': tf.Tensor, 'label': tf.Tensor}`\n",
    "image, label = list(tfds.as_numpy(one))[0]\n",
    "print(type(image), type(label), label)\n",
    "print(\"shape:\", image.shape, \"label:\", label)\n",
    "\n",
    "\n",
    "def show_images(ds):\n",
    "    figure = plt.figure(figsize=(10,10))\n",
    "    for i, example in enumerate(tfds.as_numpy(ds)):\n",
    "        image, label = example\n",
    "        if i + 1 > 16:\n",
    "            break\n",
    "        plt.subplot(4, 4, i + 1, title=label)\n",
    "        plt.xticks([])\n",
    "        plt.yticks([])\n",
    "        plt.imshow(image)\n",
    "\n",
    "ds = ds_train.take(16)\n",
    "show_images(ds)\n"
   ]
  },
  {
   "cell_type": "code",
   "execution_count": null,
   "metadata": {},
   "outputs": [],
   "source": [
    "model = Sequential([\n",
    "  tf.keras.layers.Input(shape=32*32*3),\n",
    "  Dense(10000, activation='relu'),\n",
    "  Dense(2000, activation='relu'),\n",
    "  Dense(10)\n",
    "])\n",
    "model.summary()\n",
    "\n",
    "# seems like 10000, 2000, 10 is not enough, loss flattens very quickly - it seems that model is too small."
   ]
  },
  {
   "cell_type": "code",
   "execution_count": null,
   "metadata": {},
   "outputs": [],
   "source": [
    "def translate_and_flatten(ds, no):\n",
    "    X = np.zeros((no, 32, 32, 3))\n",
    "    Y = np.zeros(no)\n",
    "    for i, example in enumerate(tfds.as_numpy(ds)):\n",
    "        image, label = example\n",
    "        X[i] = image\n",
    "        Y[i] = label\n",
    "    X = X.reshape(no, -1)\n",
    "    return X, Y"
   ]
  },
  {
   "cell_type": "code",
   "execution_count": null,
   "metadata": {},
   "outputs": [],
   "source": [
    "NO_OF_EXAMPLES = 18000\n",
    "ds = ds_train.take(NO_OF_EXAMPLES)\n",
    "X, Y = translate_and_flatten(ds, NO_OF_EXAMPLES)\n",
    "print(Y[:10])"
   ]
  },
  {
   "cell_type": "code",
   "execution_count": null,
   "metadata": {},
   "outputs": [],
   "source": [
    "model.compile(\n",
    "    optimizer=tf.keras.optimizers.Adam(0.001),\n",
    "    loss=tf.keras.losses.SparseCategoricalCrossentropy(from_logits=True),\n",
    "    # metrics=[tf.keras.metrics.SparseCategoricalAccuracy()],\n",
    ")\n",
    "\n",
    "model.fit(X, Y, epochs=3)\n"
   ]
  },
  {
   "cell_type": "code",
   "execution_count": null,
   "metadata": {},
   "outputs": [],
   "source": [
    "Xt, Yt = translate_and_flatten(ds_test.take(100), 100)\n",
    "pred = model.predict(Xt)"
   ]
  },
  {
   "cell_type": "code",
   "execution_count": null,
   "metadata": {
    "scrolled": true
   },
   "outputs": [],
   "source": [
    "cnt = 0\n",
    "for i, val in enumerate(pred):\n",
    "    pred_label = np.argmax(val)\n",
    "    if (pred_label != int(Yt[i])):\n",
    "        cnt += 1\n",
    "print(\"accuracy:\", 1 - cnt/len(pred))"
   ]
  },
  {
   "cell_type": "code",
   "execution_count": null,
   "metadata": {},
   "outputs": [],
   "source": []
  }
 ],
 "metadata": {
  "kernelspec": {
   "display_name": "Python 3",
   "language": "python",
   "name": "python3"
  },
  "language_info": {
   "codemirror_mode": {
    "name": "ipython",
    "version": 3
   },
   "file_extension": ".py",
   "mimetype": "text/x-python",
   "name": "python",
   "nbconvert_exporter": "python",
   "pygments_lexer": "ipython3",
   "version": "3.7.6"
  }
 },
 "nbformat": 4,
 "nbformat_minor": 4
}
